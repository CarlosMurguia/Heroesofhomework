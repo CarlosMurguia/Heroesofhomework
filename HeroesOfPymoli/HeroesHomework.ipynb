{
 "cells": [
  {
   "cell_type": "code",
   "execution_count": 1,
   "metadata": {},
   "outputs": [],
   "source": [
    "import pandas as pd\n",
    "import numpy as np"
   ]
  },
  {
   "cell_type": "code",
   "execution_count": 2,
   "metadata": {},
   "outputs": [],
   "source": [
    "data = \"purchase_data.json\""
   ]
  },
  {
   "cell_type": "code",
   "execution_count": 3,
   "metadata": {},
   "outputs": [],
   "source": [
    "heroes_df = pd.read_json(data)"
   ]
  },
  {
   "cell_type": "code",
   "execution_count": 31,
   "metadata": {},
   "outputs": [
    {
     "data": {
      "text/html": [
       "<div>\n",
       "<style scoped>\n",
       "    .dataframe tbody tr th:only-of-type {\n",
       "        vertical-align: middle;\n",
       "    }\n",
       "\n",
       "    .dataframe tbody tr th {\n",
       "        vertical-align: top;\n",
       "    }\n",
       "\n",
       "    .dataframe thead th {\n",
       "        text-align: right;\n",
       "    }\n",
       "</style>\n",
       "<table border=\"1\" class=\"dataframe\">\n",
       "  <thead>\n",
       "    <tr style=\"text-align: right;\">\n",
       "      <th></th>\n",
       "      <th>Age</th>\n",
       "      <th>Gender</th>\n",
       "      <th>Item ID</th>\n",
       "      <th>Item Name</th>\n",
       "      <th>Price</th>\n",
       "      <th>SN</th>\n",
       "      <th>age_bin</th>\n",
       "    </tr>\n",
       "  </thead>\n",
       "  <tbody>\n",
       "    <tr>\n",
       "      <th>0</th>\n",
       "      <td>38</td>\n",
       "      <td>Male</td>\n",
       "      <td>165</td>\n",
       "      <td>Bone Crushing Silver Skewer</td>\n",
       "      <td>3.37</td>\n",
       "      <td>Aelalis34</td>\n",
       "      <td>35 - 39</td>\n",
       "    </tr>\n",
       "    <tr>\n",
       "      <th>1</th>\n",
       "      <td>21</td>\n",
       "      <td>Male</td>\n",
       "      <td>119</td>\n",
       "      <td>Stormbringer, Dark Blade of Ending Misery</td>\n",
       "      <td>2.32</td>\n",
       "      <td>Eolo46</td>\n",
       "      <td>20 - 24</td>\n",
       "    </tr>\n",
       "    <tr>\n",
       "      <th>2</th>\n",
       "      <td>34</td>\n",
       "      <td>Male</td>\n",
       "      <td>174</td>\n",
       "      <td>Primitive Blade</td>\n",
       "      <td>2.46</td>\n",
       "      <td>Assastnya25</td>\n",
       "      <td>30 - 34</td>\n",
       "    </tr>\n",
       "    <tr>\n",
       "      <th>3</th>\n",
       "      <td>21</td>\n",
       "      <td>Male</td>\n",
       "      <td>92</td>\n",
       "      <td>Final Critic</td>\n",
       "      <td>1.36</td>\n",
       "      <td>Pheusrical25</td>\n",
       "      <td>20 - 24</td>\n",
       "    </tr>\n",
       "    <tr>\n",
       "      <th>4</th>\n",
       "      <td>23</td>\n",
       "      <td>Male</td>\n",
       "      <td>63</td>\n",
       "      <td>Stormfury Mace</td>\n",
       "      <td>1.27</td>\n",
       "      <td>Aela59</td>\n",
       "      <td>20 - 24</td>\n",
       "    </tr>\n",
       "  </tbody>\n",
       "</table>\n",
       "</div>"
      ],
      "text/plain": [
       "   Age Gender  Item ID                                  Item Name  Price  \\\n",
       "0   38   Male      165                Bone Crushing Silver Skewer   3.37   \n",
       "1   21   Male      119  Stormbringer, Dark Blade of Ending Misery   2.32   \n",
       "2   34   Male      174                            Primitive Blade   2.46   \n",
       "3   21   Male       92                               Final Critic   1.36   \n",
       "4   23   Male       63                             Stormfury Mace   1.27   \n",
       "\n",
       "             SN  age_bin  \n",
       "0     Aelalis34  35 - 39  \n",
       "1        Eolo46  20 - 24  \n",
       "2   Assastnya25  30 - 34  \n",
       "3  Pheusrical25  20 - 24  \n",
       "4        Aela59  20 - 24  "
      ]
     },
     "execution_count": 31,
     "metadata": {},
     "output_type": "execute_result"
    }
   ],
   "source": [
    "heroes_df.head()"
   ]
  },
  {
   "cell_type": "code",
   "execution_count": 5,
   "metadata": {},
   "outputs": [
    {
     "data": {
      "text/plain": [
       "573"
      ]
     },
     "execution_count": 5,
     "metadata": {},
     "output_type": "execute_result"
    }
   ],
   "source": [
    "# Total amount of Players = 573\n",
    "player_count = len(heroes_df['SN'].unique())\n",
    "player_count"
   ]
  },
  {
   "cell_type": "code",
   "execution_count": null,
   "metadata": {},
   "outputs": [],
   "source": []
  },
  {
   "cell_type": "code",
   "execution_count": 6,
   "metadata": {},
   "outputs": [
    {
     "data": {
      "text/plain": [
       "183"
      ]
     },
     "execution_count": 6,
     "metadata": {},
     "output_type": "execute_result"
    }
   ],
   "source": [
    "#TOTAL UNIQUE ITEMS\n",
    "#creates a df but only keeping last occurance of Item ID\n",
    "no_dup_items = heroes_df.drop_duplicates(['Item ID'], keep = 'last')\n",
    "#counts items by unique ID\n",
    "total_unique = len(no_dup_items)\n",
    "total_unique"
   ]
  },
  {
   "cell_type": "code",
   "execution_count": null,
   "metadata": {},
   "outputs": [],
   "source": []
  },
  {
   "cell_type": "code",
   "execution_count": 7,
   "metadata": {},
   "outputs": [
    {
     "data": {
      "text/plain": [
       "2.931192307692303"
      ]
     },
     "execution_count": 7,
     "metadata": {},
     "output_type": "execute_result"
    }
   ],
   "source": [
    "# Average Purchase Price\n",
    "average = heroes_df[\"Price\"].mean()\n",
    "average"
   ]
  },
  {
   "cell_type": "code",
   "execution_count": 8,
   "metadata": {},
   "outputs": [
    {
     "data": {
      "text/plain": [
       "780"
      ]
     },
     "execution_count": 8,
     "metadata": {},
     "output_type": "execute_result"
    }
   ],
   "source": [
    "# Total Number of Purchases\n",
    "heroes_df[\"Price\"].size"
   ]
  },
  {
   "cell_type": "code",
   "execution_count": 9,
   "metadata": {},
   "outputs": [],
   "source": [
    "# Total Revenue\n",
    "totalvalue = heroes_df[\"Price\"].sum()"
   ]
  },
  {
   "cell_type": "code",
   "execution_count": 16,
   "metadata": {},
   "outputs": [
    {
     "data": {
      "text/html": [
       "<div>\n",
       "<style scoped>\n",
       "    .dataframe tbody tr th:only-of-type {\n",
       "        vertical-align: middle;\n",
       "    }\n",
       "\n",
       "    .dataframe tbody tr th {\n",
       "        vertical-align: top;\n",
       "    }\n",
       "\n",
       "    .dataframe thead th {\n",
       "        text-align: right;\n",
       "    }\n",
       "</style>\n",
       "<table border=\"1\" class=\"dataframe\">\n",
       "  <thead>\n",
       "    <tr style=\"text-align: right;\">\n",
       "      <th></th>\n",
       "      <th>Gender</th>\n",
       "      <th># of Players</th>\n",
       "      <th>% of Players</th>\n",
       "    </tr>\n",
       "  </thead>\n",
       "  <tbody>\n",
       "    <tr>\n",
       "      <th>0</th>\n",
       "      <td>Male</td>\n",
       "      <td>465</td>\n",
       "      <td>81.151832</td>\n",
       "    </tr>\n",
       "    <tr>\n",
       "      <th>1</th>\n",
       "      <td>Female</td>\n",
       "      <td>100</td>\n",
       "      <td>17.452007</td>\n",
       "    </tr>\n",
       "    <tr>\n",
       "      <th>2</th>\n",
       "      <td>Other / Non-Disclosed</td>\n",
       "      <td>8</td>\n",
       "      <td>1.396161</td>\n",
       "    </tr>\n",
       "  </tbody>\n",
       "</table>\n",
       "</div>"
      ],
      "text/plain": [
       "                  Gender  # of Players  % of Players\n",
       "0                   Male           465     81.151832\n",
       "1                 Female           100     17.452007\n",
       "2  Other / Non-Disclosed             8      1.396161"
      ]
     },
     "execution_count": 16,
     "metadata": {},
     "output_type": "execute_result"
    }
   ],
   "source": [
    "# Total Players by Gender\n",
    "no_dup_players = heroes_df.drop_duplicates(['SN'], keep ='last')\n",
    "gender_counts = no_dup_players['Gender'].value_counts().reset_index()\n",
    "# Total Players by Gender (percentage)\n",
    "\n",
    "gender_counts['% of Players'] = gender_counts['Gender']/player_count * 100\n",
    "gender_counts.rename(columns = {'index': 'Gender', 'Gender': '# of Players'}, inplace = True)\n",
    "\n",
    "\n",
    "gender_counts\n",
    "\n"
   ]
  },
  {
   "cell_type": "code",
   "execution_count": 29,
   "metadata": {},
   "outputs": [
    {
     "data": {
      "text/html": [
       "<style  type=\"text/css\" >\n",
       "</style>  \n",
       "<table id=\"T_30d8edba_74b3_11e8_a0e4_c200c0c92e01\" > \n",
       "<thead>    <tr> \n",
       "        <th class=\"blank level0\" ></th> \n",
       "        <th class=\"col_heading level0 col0\" ># of Purchases</th> \n",
       "        <th class=\"col_heading level0 col1\" >Total Purchase Value</th> \n",
       "        <th class=\"col_heading level0 col2\" >Average Purchase Price</th> \n",
       "        <th class=\"col_heading level0 col3\" >Normalized Totals</th> \n",
       "    </tr>    <tr> \n",
       "        <th class=\"index_name level0\" >Gender</th> \n",
       "        <th class=\"blank\" ></th> \n",
       "        <th class=\"blank\" ></th> \n",
       "        <th class=\"blank\" ></th> \n",
       "        <th class=\"blank\" ></th> \n",
       "    </tr></thead> \n",
       "<tbody>    <tr> \n",
       "        <th id=\"T_30d8edba_74b3_11e8_a0e4_c200c0c92e01level0_row0\" class=\"row_heading level0 row0\" >Female</th> \n",
       "        <td id=\"T_30d8edba_74b3_11e8_a0e4_c200c0c92e01row0_col0\" class=\"data row0 col0\" >136</td> \n",
       "        <td id=\"T_30d8edba_74b3_11e8_a0e4_c200c0c92e01row0_col1\" class=\"data row0 col1\" >$382.91</td> \n",
       "        <td id=\"T_30d8edba_74b3_11e8_a0e4_c200c0c92e01row0_col2\" class=\"data row0 col2\" >$2.82</td> \n",
       "        <td id=\"T_30d8edba_74b3_11e8_a0e4_c200c0c92e01row0_col3\" class=\"data row0 col3\" >$2.82</td> \n",
       "    </tr>    <tr> \n",
       "        <th id=\"T_30d8edba_74b3_11e8_a0e4_c200c0c92e01level0_row1\" class=\"row_heading level0 row1\" >Male</th> \n",
       "        <td id=\"T_30d8edba_74b3_11e8_a0e4_c200c0c92e01row1_col0\" class=\"data row1 col0\" >633</td> \n",
       "        <td id=\"T_30d8edba_74b3_11e8_a0e4_c200c0c92e01row1_col1\" class=\"data row1 col1\" >$1867.68</td> \n",
       "        <td id=\"T_30d8edba_74b3_11e8_a0e4_c200c0c92e01row1_col2\" class=\"data row1 col2\" >$2.95</td> \n",
       "        <td id=\"T_30d8edba_74b3_11e8_a0e4_c200c0c92e01row1_col3\" class=\"data row1 col3\" >$2.95</td> \n",
       "    </tr>    <tr> \n",
       "        <th id=\"T_30d8edba_74b3_11e8_a0e4_c200c0c92e01level0_row2\" class=\"row_heading level0 row2\" >Other / Non-Disclosed</th> \n",
       "        <td id=\"T_30d8edba_74b3_11e8_a0e4_c200c0c92e01row2_col0\" class=\"data row2 col0\" >11</td> \n",
       "        <td id=\"T_30d8edba_74b3_11e8_a0e4_c200c0c92e01row2_col1\" class=\"data row2 col1\" >$35.74</td> \n",
       "        <td id=\"T_30d8edba_74b3_11e8_a0e4_c200c0c92e01row2_col2\" class=\"data row2 col2\" >$3.25</td> \n",
       "        <td id=\"T_30d8edba_74b3_11e8_a0e4_c200c0c92e01row2_col3\" class=\"data row2 col3\" >$3.25</td> \n",
       "    </tr></tbody> \n",
       "</table> "
      ],
      "text/plain": [
       "<pandas.io.formats.style.Styler at 0x10f500240>"
      ]
     },
     "execution_count": 29,
     "metadata": {},
     "output_type": "execute_result"
    }
   ],
   "source": [
    "pur_count_by_gen = pd.DataFrame(heroes_df.groupby('Gender')['Gender'].count())\n",
    "# sums price by gender\n",
    "total_pur_by_gen = pd.DataFrame(heroes_df.groupby('Gender')['Price'].sum())\n",
    "#merges the two data frames from above\n",
    "pur_analysis_gen = pd.merge(pur_count_by_gen, total_pur_by_gen, left_index = True, right_index = True)\n",
    "#renames columns\n",
    "pur_analysis_gen.rename(columns = {'Gender': '# of Purchases', 'Price':'Total Purchase Value'}, inplace=True)\n",
    "#adds column for average purchase price by gender by dividing total purcahse value by gender by # of purchases by gender\n",
    "pur_analysis_gen['Average Purchase Price'] = (heroes_df.groupby('Gender')['Price'].mean())\n",
    "# calculates and adds normalized total column by dividing total purchase value by unique # of players by genger\n",
    "pur_analysis_gen['Normalized Totals'] = pur_analysis_gen['Total Purchase Value']/pur_analysis_gen['# of Purchases']\n",
    "pur_analysis_gen\n",
    "#deletes columns not needed for table (# of Players was used for normalized totals while % of players came from gender count table)\n",
    "\n",
    "# #resets index for aesthetics \n",
    "# # pur_analysis_gen.set_index('Gender', inplace=True)\n",
    "# #formats table\n",
    "pur_analysis_gen.style.format({'Total Purchase Value': '${:.2f}', 'Average Purchase Price': '${:.2f}', 'Normalized Totals': '${:.2f}'})\n"
   ]
  },
  {
   "cell_type": "code",
   "execution_count": 12,
   "metadata": {},
   "outputs": [
    {
     "data": {
      "text/html": [
       "<style  type=\"text/css\" >\n",
       "</style>  \n",
       "<table id=\"T_6e6f5522_74b0_11e8_a07a_c200c0c92e01\" > \n",
       "<thead>    <tr> \n",
       "        <th class=\"blank level0\" ></th> \n",
       "        <th class=\"col_heading level0 col0\" ># of Purchases</th> \n",
       "        <th class=\"col_heading level0 col1\" >Average Purchase Price</th> \n",
       "        <th class=\"col_heading level0 col2\" >Total Purchase Value</th> \n",
       "        <th class=\"col_heading level0 col3\" ># of Purchasers</th> \n",
       "        <th class=\"col_heading level0 col4\" >Normalized Totals</th> \n",
       "    </tr>    <tr> \n",
       "        <th class=\"index_name level0\" >Age</th> \n",
       "        <th class=\"blank\" ></th> \n",
       "        <th class=\"blank\" ></th> \n",
       "        <th class=\"blank\" ></th> \n",
       "        <th class=\"blank\" ></th> \n",
       "        <th class=\"blank\" ></th> \n",
       "    </tr></thead> \n",
       "<tbody>    <tr> \n",
       "        <th id=\"T_6e6f5522_74b0_11e8_a07a_c200c0c92e01level0_row0\" class=\"row_heading level0 row0\" >10 - 14</th> \n",
       "        <td id=\"T_6e6f5522_74b0_11e8_a07a_c200c0c92e01row0_col0\" class=\"data row0 col0\" >35</td> \n",
       "        <td id=\"T_6e6f5522_74b0_11e8_a07a_c200c0c92e01row0_col1\" class=\"data row0 col1\" >$2.77</td> \n",
       "        <td id=\"T_6e6f5522_74b0_11e8_a07a_c200c0c92e01row0_col2\" class=\"data row0 col2\" >$96.95</td> \n",
       "        <td id=\"T_6e6f5522_74b0_11e8_a07a_c200c0c92e01row0_col3\" class=\"data row0 col3\" >23</td> \n",
       "        <td id=\"T_6e6f5522_74b0_11e8_a07a_c200c0c92e01row0_col4\" class=\"data row0 col4\" >$4.22</td> \n",
       "    </tr>    <tr> \n",
       "        <th id=\"T_6e6f5522_74b0_11e8_a07a_c200c0c92e01level0_row1\" class=\"row_heading level0 row1\" >15 - 19</th> \n",
       "        <td id=\"T_6e6f5522_74b0_11e8_a07a_c200c0c92e01row1_col0\" class=\"data row1 col0\" >133</td> \n",
       "        <td id=\"T_6e6f5522_74b0_11e8_a07a_c200c0c92e01row1_col1\" class=\"data row1 col1\" >$2.91</td> \n",
       "        <td id=\"T_6e6f5522_74b0_11e8_a07a_c200c0c92e01row1_col2\" class=\"data row1 col2\" >$386.42</td> \n",
       "        <td id=\"T_6e6f5522_74b0_11e8_a07a_c200c0c92e01row1_col3\" class=\"data row1 col3\" >100</td> \n",
       "        <td id=\"T_6e6f5522_74b0_11e8_a07a_c200c0c92e01row1_col4\" class=\"data row1 col4\" >$3.86</td> \n",
       "    </tr>    <tr> \n",
       "        <th id=\"T_6e6f5522_74b0_11e8_a07a_c200c0c92e01level0_row2\" class=\"row_heading level0 row2\" >20 - 24</th> \n",
       "        <td id=\"T_6e6f5522_74b0_11e8_a07a_c200c0c92e01row2_col0\" class=\"data row2 col0\" >336</td> \n",
       "        <td id=\"T_6e6f5522_74b0_11e8_a07a_c200c0c92e01row2_col1\" class=\"data row2 col1\" >$2.91</td> \n",
       "        <td id=\"T_6e6f5522_74b0_11e8_a07a_c200c0c92e01row2_col2\" class=\"data row2 col2\" >$978.77</td> \n",
       "        <td id=\"T_6e6f5522_74b0_11e8_a07a_c200c0c92e01row2_col3\" class=\"data row2 col3\" >259</td> \n",
       "        <td id=\"T_6e6f5522_74b0_11e8_a07a_c200c0c92e01row2_col4\" class=\"data row2 col4\" >$3.78</td> \n",
       "    </tr>    <tr> \n",
       "        <th id=\"T_6e6f5522_74b0_11e8_a07a_c200c0c92e01level0_row3\" class=\"row_heading level0 row3\" >25 - 29</th> \n",
       "        <td id=\"T_6e6f5522_74b0_11e8_a07a_c200c0c92e01row3_col0\" class=\"data row3 col0\" >125</td> \n",
       "        <td id=\"T_6e6f5522_74b0_11e8_a07a_c200c0c92e01row3_col1\" class=\"data row3 col1\" >$2.96</td> \n",
       "        <td id=\"T_6e6f5522_74b0_11e8_a07a_c200c0c92e01row3_col2\" class=\"data row3 col2\" >$370.33</td> \n",
       "        <td id=\"T_6e6f5522_74b0_11e8_a07a_c200c0c92e01row3_col3\" class=\"data row3 col3\" >87</td> \n",
       "        <td id=\"T_6e6f5522_74b0_11e8_a07a_c200c0c92e01row3_col4\" class=\"data row3 col4\" >$4.26</td> \n",
       "    </tr>    <tr> \n",
       "        <th id=\"T_6e6f5522_74b0_11e8_a07a_c200c0c92e01level0_row4\" class=\"row_heading level0 row4\" >30 - 34</th> \n",
       "        <td id=\"T_6e6f5522_74b0_11e8_a07a_c200c0c92e01row4_col0\" class=\"data row4 col0\" >64</td> \n",
       "        <td id=\"T_6e6f5522_74b0_11e8_a07a_c200c0c92e01row4_col1\" class=\"data row4 col1\" >$3.08</td> \n",
       "        <td id=\"T_6e6f5522_74b0_11e8_a07a_c200c0c92e01row4_col2\" class=\"data row4 col2\" >$197.25</td> \n",
       "        <td id=\"T_6e6f5522_74b0_11e8_a07a_c200c0c92e01row4_col3\" class=\"data row4 col3\" >47</td> \n",
       "        <td id=\"T_6e6f5522_74b0_11e8_a07a_c200c0c92e01row4_col4\" class=\"data row4 col4\" >$4.20</td> \n",
       "    </tr>    <tr> \n",
       "        <th id=\"T_6e6f5522_74b0_11e8_a07a_c200c0c92e01level0_row5\" class=\"row_heading level0 row5\" >35 - 39</th> \n",
       "        <td id=\"T_6e6f5522_74b0_11e8_a07a_c200c0c92e01row5_col0\" class=\"data row5 col0\" >42</td> \n",
       "        <td id=\"T_6e6f5522_74b0_11e8_a07a_c200c0c92e01row5_col1\" class=\"data row5 col1\" >$2.84</td> \n",
       "        <td id=\"T_6e6f5522_74b0_11e8_a07a_c200c0c92e01row5_col2\" class=\"data row5 col2\" >$119.40</td> \n",
       "        <td id=\"T_6e6f5522_74b0_11e8_a07a_c200c0c92e01row5_col3\" class=\"data row5 col3\" >27</td> \n",
       "        <td id=\"T_6e6f5522_74b0_11e8_a07a_c200c0c92e01row5_col4\" class=\"data row5 col4\" >$4.42</td> \n",
       "    </tr>    <tr> \n",
       "        <th id=\"T_6e6f5522_74b0_11e8_a07a_c200c0c92e01level0_row6\" class=\"row_heading level0 row6\" >< 10</th> \n",
       "        <td id=\"T_6e6f5522_74b0_11e8_a07a_c200c0c92e01row6_col0\" class=\"data row6 col0\" >28</td> \n",
       "        <td id=\"T_6e6f5522_74b0_11e8_a07a_c200c0c92e01row6_col1\" class=\"data row6 col1\" >$2.98</td> \n",
       "        <td id=\"T_6e6f5522_74b0_11e8_a07a_c200c0c92e01row6_col2\" class=\"data row6 col2\" >$83.46</td> \n",
       "        <td id=\"T_6e6f5522_74b0_11e8_a07a_c200c0c92e01row6_col3\" class=\"data row6 col3\" >19</td> \n",
       "        <td id=\"T_6e6f5522_74b0_11e8_a07a_c200c0c92e01row6_col4\" class=\"data row6 col4\" >$4.39</td> \n",
       "    </tr>    <tr> \n",
       "        <th id=\"T_6e6f5522_74b0_11e8_a07a_c200c0c92e01level0_row7\" class=\"row_heading level0 row7\" >> 40</th> \n",
       "        <td id=\"T_6e6f5522_74b0_11e8_a07a_c200c0c92e01row7_col0\" class=\"data row7 col0\" >17</td> \n",
       "        <td id=\"T_6e6f5522_74b0_11e8_a07a_c200c0c92e01row7_col1\" class=\"data row7 col1\" >$3.16</td> \n",
       "        <td id=\"T_6e6f5522_74b0_11e8_a07a_c200c0c92e01row7_col2\" class=\"data row7 col2\" >$53.75</td> \n",
       "        <td id=\"T_6e6f5522_74b0_11e8_a07a_c200c0c92e01row7_col3\" class=\"data row7 col3\" >11</td> \n",
       "        <td id=\"T_6e6f5522_74b0_11e8_a07a_c200c0c92e01row7_col4\" class=\"data row7 col4\" >$4.89</td> \n",
       "    </tr></tbody> \n",
       "</table> "
      ],
      "text/plain": [
       "<pandas.io.formats.style.Styler at 0x10f36f358>"
      ]
     },
     "execution_count": 12,
     "metadata": {},
     "output_type": "execute_result"
    }
   ],
   "source": [
    "# AGE DEMOGRAPHICS\n",
    "heroes_df.loc[(heroes_df['Age'] < 10), 'age_bin'] = \"< 10\"\n",
    "heroes_df.loc[(heroes_df['Age'] >= 10) & (heroes_df['Age'] <= 14), 'age_bin'] = \"10 - 14\"\n",
    "heroes_df.loc[(heroes_df['Age'] >= 15) & (heroes_df['Age'] <= 19), 'age_bin'] = \"15 - 19\"\n",
    "heroes_df.loc[(heroes_df['Age'] >= 20) & (heroes_df['Age'] <= 24), 'age_bin'] = \"20 - 24\"\n",
    "heroes_df.loc[(heroes_df['Age'] >= 25) & (heroes_df['Age'] <= 29), 'age_bin'] = \"25 - 29\"\n",
    "heroes_df.loc[(heroes_df['Age'] >= 30) & (heroes_df['Age'] <= 34), 'age_bin'] = \"30 - 34\"\n",
    "heroes_df.loc[(heroes_df['Age'] >= 35) & (heroes_df['Age'] <= 39), 'age_bin'] = \"35 - 39\"\n",
    "heroes_df.loc[(heroes_df['Age'] >= 40), 'age_bin'] = \"> 40\"\n",
    "\n",
    "# Purchase Count\n",
    "pur_count_age = pd.DataFrame(heroes_df.groupby('age_bin')['SN'].count())\n",
    "#Average Purchase Price\n",
    "avg_price_age = pd.DataFrame(heroes_df.groupby('age_bin')['Price'].mean())\n",
    "#Total Purchase Value\n",
    "tot_pur_age = pd.DataFrame(heroes_df.groupby('age_bin')['Price'].sum())\n",
    "#deletes multiple occurances of SN while only keeping last, then counts # of unique\n",
    "#players by age bin\n",
    "no_dup_age = pd.DataFrame(heroes_df.drop_duplicates('SN', keep = 'last').groupby('age_bin')['SN'].count())\n",
    "#merges all info from above into one df\n",
    "merge_age = pd.merge(pur_count_age, avg_price_age, left_index = True, right_index = True).merge(tot_pur_age, left_index = True, right_index = True).merge(no_dup_age, left_index = True, right_index = True)\n",
    "#renames columns\n",
    "merge_age.rename(columns = {\"SN_x\": \"# of Purchases\", \"Price_x\": \"Average Purchase Price\", \"Price_y\": \"Total Purchase Value\", \"SN_y\": \"# of Purchasers\"}, inplace = True)\n",
    "#Normalized Totals\n",
    "merge_age['Normalized Totals'] = merge_age['Total Purchase Value']/merge_age['# of Purchasers']\n",
    "#rest index for aesthetics\n",
    "merge_age.index.rename(\"Age\", inplace = True)\n",
    "# formats\n",
    "merge_age.style.format({'Average Purchase Price': '${:.2f}', 'Total Purchase Value': '${:.2f}', 'Normalized Totals': '${:.2f}'})"
   ]
  },
  {
   "cell_type": "code",
   "execution_count": 19,
   "metadata": {},
   "outputs": [
    {
     "data": {
      "text/html": [
       "<style  type=\"text/css\" >\n",
       "</style>  \n",
       "<table id=\"T_375c3054_74b1_11e8_b82e_c200c0c92e01\" > \n",
       "<thead>    <tr> \n",
       "        <th class=\"blank level0\" ></th> \n",
       "        <th class=\"col_heading level0 col0\" >Total Purchase Value</th> \n",
       "        <th class=\"col_heading level0 col1\" >Purchase Count</th> \n",
       "        <th class=\"col_heading level0 col2\" >Average Purchase Price</th> \n",
       "    </tr>    <tr> \n",
       "        <th class=\"index_name level0\" >SN</th> \n",
       "        <th class=\"blank\" ></th> \n",
       "        <th class=\"blank\" ></th> \n",
       "        <th class=\"blank\" ></th> \n",
       "    </tr></thead> \n",
       "<tbody>    <tr> \n",
       "        <th id=\"T_375c3054_74b1_11e8_b82e_c200c0c92e01level0_row0\" class=\"row_heading level0 row0\" >Undirrala66</th> \n",
       "        <td id=\"T_375c3054_74b1_11e8_b82e_c200c0c92e01row0_col0\" class=\"data row0 col0\" >$17.06</td> \n",
       "        <td id=\"T_375c3054_74b1_11e8_b82e_c200c0c92e01row0_col1\" class=\"data row0 col1\" >5</td> \n",
       "        <td id=\"T_375c3054_74b1_11e8_b82e_c200c0c92e01row0_col2\" class=\"data row0 col2\" >$3.41</td> \n",
       "    </tr>    <tr> \n",
       "        <th id=\"T_375c3054_74b1_11e8_b82e_c200c0c92e01level0_row1\" class=\"row_heading level0 row1\" >Saedue76</th> \n",
       "        <td id=\"T_375c3054_74b1_11e8_b82e_c200c0c92e01row1_col0\" class=\"data row1 col0\" >$13.56</td> \n",
       "        <td id=\"T_375c3054_74b1_11e8_b82e_c200c0c92e01row1_col1\" class=\"data row1 col1\" >4</td> \n",
       "        <td id=\"T_375c3054_74b1_11e8_b82e_c200c0c92e01row1_col2\" class=\"data row1 col2\" >$3.39</td> \n",
       "    </tr>    <tr> \n",
       "        <th id=\"T_375c3054_74b1_11e8_b82e_c200c0c92e01level0_row2\" class=\"row_heading level0 row2\" >Mindimnya67</th> \n",
       "        <td id=\"T_375c3054_74b1_11e8_b82e_c200c0c92e01row2_col0\" class=\"data row2 col0\" >$12.74</td> \n",
       "        <td id=\"T_375c3054_74b1_11e8_b82e_c200c0c92e01row2_col1\" class=\"data row2 col1\" >4</td> \n",
       "        <td id=\"T_375c3054_74b1_11e8_b82e_c200c0c92e01row2_col2\" class=\"data row2 col2\" >$3.18</td> \n",
       "    </tr>    <tr> \n",
       "        <th id=\"T_375c3054_74b1_11e8_b82e_c200c0c92e01level0_row3\" class=\"row_heading level0 row3\" >Haellysu29</th> \n",
       "        <td id=\"T_375c3054_74b1_11e8_b82e_c200c0c92e01row3_col0\" class=\"data row3 col0\" >$12.73</td> \n",
       "        <td id=\"T_375c3054_74b1_11e8_b82e_c200c0c92e01row3_col1\" class=\"data row3 col1\" >3</td> \n",
       "        <td id=\"T_375c3054_74b1_11e8_b82e_c200c0c92e01row3_col2\" class=\"data row3 col2\" >$4.24</td> \n",
       "    </tr>    <tr> \n",
       "        <th id=\"T_375c3054_74b1_11e8_b82e_c200c0c92e01level0_row4\" class=\"row_heading level0 row4\" >Eoda93</th> \n",
       "        <td id=\"T_375c3054_74b1_11e8_b82e_c200c0c92e01row4_col0\" class=\"data row4 col0\" >$11.58</td> \n",
       "        <td id=\"T_375c3054_74b1_11e8_b82e_c200c0c92e01row4_col1\" class=\"data row4 col1\" >3</td> \n",
       "        <td id=\"T_375c3054_74b1_11e8_b82e_c200c0c92e01row4_col2\" class=\"data row4 col2\" >$3.86</td> \n",
       "    </tr></tbody> \n",
       "</table> "
      ],
      "text/plain": [
       "<pandas.io.formats.style.Styler at 0x10f514a90>"
      ]
     },
     "execution_count": 19,
     "metadata": {},
     "output_type": "execute_result"
    }
   ],
   "source": [
    "# TOP SPENDERS\n",
    "\n",
    "purchase_amt_by_SN = pd.DataFrame(heroes_df.groupby('SN')['Price'].sum())\n",
    "num_purchase_by_SN = pd.DataFrame(heroes_df.groupby('SN')['Price'].count())\n",
    "avg_purchase_by_SN = pd.DataFrame(heroes_df.groupby('SN')['Price'].mean())\n",
    "# merge the above \n",
    "merged_top5 = pd.merge(purchase_amt_by_SN, num_purchase_by_SN, left_index = True, right_index = True).merge(avg_purchase_by_SN, left_index=True, right_index=True)\n",
    "# rename columns\n",
    "merged_top5.rename(columns = {'Price_x': 'Total Purchase Value', 'Price_y':'Purchase Count', 'Price':'Average Purchase Price'}, inplace = True)\n",
    "# sort from highest purchase value to lowest\n",
    "merged_top5.sort_values('Total Purchase Value', ascending = False, inplace=True)\n",
    "# take top 5 only\n",
    "merged_top5 = merged_top5.head()\n",
    "# format\n",
    "merged_top5.style.format({'Total Purchase Value': '${:.2f}', 'Average Purchase Price': '${:.2f}'})"
   ]
  },
  {
   "cell_type": "code",
   "execution_count": 36,
   "metadata": {},
   "outputs": [
    {
     "name": "stderr",
     "output_type": "stream",
     "text": [
      "/anaconda3/lib/python3.6/site-packages/ipykernel_launcher.py:5: FutureWarning: 'Item ID' is both an index level and a column label.\n",
      "Defaulting to column, but this will raise an ambiguity error in a future version\n",
      "  \"\"\"\n"
     ]
    },
    {
     "data": {
      "text/html": [
       "<style  type=\"text/css\" >\n",
       "</style>  \n",
       "<table id=\"T_0796237a_74b4_11e8_91d5_c200c0c92e01\" > \n",
       "<thead>    <tr> \n",
       "        <th class=\"blank level0\" ></th> \n",
       "        <th class=\"col_heading level0 col0\" >Item Name</th> \n",
       "        <th class=\"col_heading level0 col1\" >Purchase Count</th> \n",
       "        <th class=\"col_heading level0 col2\" >Item Price</th> \n",
       "        <th class=\"col_heading level0 col3\" >Total Purchase Value</th> \n",
       "    </tr>    <tr> \n",
       "        <th class=\"index_name level0\" >Item ID</th> \n",
       "        <th class=\"blank\" ></th> \n",
       "        <th class=\"blank\" ></th> \n",
       "        <th class=\"blank\" ></th> \n",
       "        <th class=\"blank\" ></th> \n",
       "    </tr></thead> \n",
       "<tbody>    <tr> \n",
       "        <th id=\"T_0796237a_74b4_11e8_91d5_c200c0c92e01level0_row0\" class=\"row_heading level0 row0\" >39</th> \n",
       "        <td id=\"T_0796237a_74b4_11e8_91d5_c200c0c92e01row0_col0\" class=\"data row0 col0\" >Betrayal, Whisper of Grieving Widows</td> \n",
       "        <td id=\"T_0796237a_74b4_11e8_91d5_c200c0c92e01row0_col1\" class=\"data row0 col1\" >11</td> \n",
       "        <td id=\"T_0796237a_74b4_11e8_91d5_c200c0c92e01row0_col2\" class=\"data row0 col2\" >$2.35</td> \n",
       "        <td id=\"T_0796237a_74b4_11e8_91d5_c200c0c92e01row0_col3\" class=\"data row0 col3\" >$25.85</td> \n",
       "    </tr>    <tr> \n",
       "        <th id=\"T_0796237a_74b4_11e8_91d5_c200c0c92e01level0_row1\" class=\"row_heading level0 row1\" >84</th> \n",
       "        <td id=\"T_0796237a_74b4_11e8_91d5_c200c0c92e01row1_col0\" class=\"data row1 col0\" >Arcane Gem</td> \n",
       "        <td id=\"T_0796237a_74b4_11e8_91d5_c200c0c92e01row1_col1\" class=\"data row1 col1\" >11</td> \n",
       "        <td id=\"T_0796237a_74b4_11e8_91d5_c200c0c92e01row1_col2\" class=\"data row1 col2\" >$2.23</td> \n",
       "        <td id=\"T_0796237a_74b4_11e8_91d5_c200c0c92e01row1_col3\" class=\"data row1 col3\" >$24.53</td> \n",
       "    </tr>    <tr> \n",
       "        <th id=\"T_0796237a_74b4_11e8_91d5_c200c0c92e01level0_row2\" class=\"row_heading level0 row2\" >31</th> \n",
       "        <td id=\"T_0796237a_74b4_11e8_91d5_c200c0c92e01row2_col0\" class=\"data row2 col0\" >Trickster</td> \n",
       "        <td id=\"T_0796237a_74b4_11e8_91d5_c200c0c92e01row2_col1\" class=\"data row2 col1\" >9</td> \n",
       "        <td id=\"T_0796237a_74b4_11e8_91d5_c200c0c92e01row2_col2\" class=\"data row2 col2\" >$2.07</td> \n",
       "        <td id=\"T_0796237a_74b4_11e8_91d5_c200c0c92e01row2_col3\" class=\"data row2 col3\" >$18.63</td> \n",
       "    </tr>    <tr> \n",
       "        <th id=\"T_0796237a_74b4_11e8_91d5_c200c0c92e01level0_row3\" class=\"row_heading level0 row3\" >175</th> \n",
       "        <td id=\"T_0796237a_74b4_11e8_91d5_c200c0c92e01row3_col0\" class=\"data row3 col0\" >Woeful Adamantite Claymore</td> \n",
       "        <td id=\"T_0796237a_74b4_11e8_91d5_c200c0c92e01row3_col1\" class=\"data row3 col1\" >9</td> \n",
       "        <td id=\"T_0796237a_74b4_11e8_91d5_c200c0c92e01row3_col2\" class=\"data row3 col2\" >$1.24</td> \n",
       "        <td id=\"T_0796237a_74b4_11e8_91d5_c200c0c92e01row3_col3\" class=\"data row3 col3\" >$11.16</td> \n",
       "    </tr>    <tr> \n",
       "        <th id=\"T_0796237a_74b4_11e8_91d5_c200c0c92e01level0_row4\" class=\"row_heading level0 row4\" >13</th> \n",
       "        <td id=\"T_0796237a_74b4_11e8_91d5_c200c0c92e01row4_col0\" class=\"data row4 col0\" >Serenity</td> \n",
       "        <td id=\"T_0796237a_74b4_11e8_91d5_c200c0c92e01row4_col1\" class=\"data row4 col1\" >9</td> \n",
       "        <td id=\"T_0796237a_74b4_11e8_91d5_c200c0c92e01row4_col2\" class=\"data row4 col2\" >$1.49</td> \n",
       "        <td id=\"T_0796237a_74b4_11e8_91d5_c200c0c92e01row4_col3\" class=\"data row4 col3\" >$13.41</td> \n",
       "    </tr></tbody> \n",
       "</table> "
      ],
      "text/plain": [
       "<pandas.io.formats.style.Styler at 0x10f63be10>"
      ]
     },
     "execution_count": 36,
     "metadata": {},
     "output_type": "execute_result"
    }
   ],
   "source": [
    "# Most Popular Items\n",
    "# gets a count of each item by grouping by Item ID and counting the number of each IDs occurances\n",
    "top5_items_ID = pd.DataFrame(heroes_df.groupby('Item ID')['Item ID'].count())\n",
    "#sort from high to low total purchase count\n",
    "top5_items_ID.sort_values('Item ID', ascending = False, inplace = True)\n",
    "#keep the first 5 rows because there is a tie\n",
    "top5_items_ID = top5_items_ID.iloc[0:5][:]\n",
    "#find the total purchase value of each item\n",
    "top5_items_total = pd.DataFrame(heroes_df.groupby('Item ID')['Price'].sum())\n",
    "#merge purcahse count and total purcahse value \n",
    "top5_items = pd.merge(top5_items_ID, top5_items_total, left_index = True, right_index = True)\n",
    "#drop duplicate items from original Df\n",
    "no_dup_items = heroes_df.drop_duplicates(['Item ID'], keep = 'last')\n",
    "# merge to get all other info from the top 6 using the no dup df\n",
    "top5_merge_ID = pd.merge(top5_items, no_dup_items, left_index = True, right_on = 'Item ID')\n",
    "#keep only neede columns\n",
    "top5_merge_ID = top5_merge_ID[['Item ID', 'Item Name', 'Item ID_x', 'Price_y', 'Price_x']]\n",
    "#reset index as item ID for aesthetics\n",
    "top5_merge_ID.set_index(['Item ID'], inplace = True)\n",
    "# rename columns\n",
    "top5_merge_ID.rename(columns =  {'Item ID_x': 'Purchase Count', 'Price_y': 'Item Price', 'Price_x': 'Total Purchase Value'}, inplace=True)\n",
    "#format\n",
    "top5_merge_ID.style.format({'Item Price': '${:.2f}', 'Total Purchase Value': '${:.2f}'})"
   ]
  },
  {
   "cell_type": "code",
   "execution_count": 24,
   "metadata": {},
   "outputs": [
    {
     "data": {
      "text/html": [
       "<style  type=\"text/css\" >\n",
       "</style>  \n",
       "<table id=\"T_2118bd0c_74b2_11e8_8ca0_c200c0c92e01\" > \n",
       "<thead>    <tr> \n",
       "        <th class=\"blank level0\" ></th> \n",
       "        <th class=\"col_heading level0 col0\" >Item Name</th> \n",
       "        <th class=\"col_heading level0 col1\" >Purchase Count</th> \n",
       "        <th class=\"col_heading level0 col2\" >Item Price</th> \n",
       "        <th class=\"col_heading level0 col3\" >Total Purchase Value</th> \n",
       "    </tr>    <tr> \n",
       "        <th class=\"index_name level0\" >Item ID</th> \n",
       "        <th class=\"blank\" ></th> \n",
       "        <th class=\"blank\" ></th> \n",
       "        <th class=\"blank\" ></th> \n",
       "        <th class=\"blank\" ></th> \n",
       "    </tr></thead> \n",
       "<tbody>    <tr> \n",
       "        <th id=\"T_2118bd0c_74b2_11e8_8ca0_c200c0c92e01level0_row0\" class=\"row_heading level0 row0\" >34</th> \n",
       "        <td id=\"T_2118bd0c_74b2_11e8_8ca0_c200c0c92e01row0_col0\" class=\"data row0 col0\" >Retribution Axe</td> \n",
       "        <td id=\"T_2118bd0c_74b2_11e8_8ca0_c200c0c92e01row0_col1\" class=\"data row0 col1\" >9</td> \n",
       "        <td id=\"T_2118bd0c_74b2_11e8_8ca0_c200c0c92e01row0_col2\" class=\"data row0 col2\" >$4.14</td> \n",
       "        <td id=\"T_2118bd0c_74b2_11e8_8ca0_c200c0c92e01row0_col3\" class=\"data row0 col3\" >$37.26</td> \n",
       "    </tr>    <tr> \n",
       "        <th id=\"T_2118bd0c_74b2_11e8_8ca0_c200c0c92e01level0_row1\" class=\"row_heading level0 row1\" >115</th> \n",
       "        <td id=\"T_2118bd0c_74b2_11e8_8ca0_c200c0c92e01row1_col0\" class=\"data row1 col0\" >Spectral Diamond Doomblade</td> \n",
       "        <td id=\"T_2118bd0c_74b2_11e8_8ca0_c200c0c92e01row1_col1\" class=\"data row1 col1\" >7</td> \n",
       "        <td id=\"T_2118bd0c_74b2_11e8_8ca0_c200c0c92e01row1_col2\" class=\"data row1 col2\" >$4.25</td> \n",
       "        <td id=\"T_2118bd0c_74b2_11e8_8ca0_c200c0c92e01row1_col3\" class=\"data row1 col3\" >$29.75</td> \n",
       "    </tr>    <tr> \n",
       "        <th id=\"T_2118bd0c_74b2_11e8_8ca0_c200c0c92e01level0_row2\" class=\"row_heading level0 row2\" >32</th> \n",
       "        <td id=\"T_2118bd0c_74b2_11e8_8ca0_c200c0c92e01row2_col0\" class=\"data row2 col0\" >Orenmir</td> \n",
       "        <td id=\"T_2118bd0c_74b2_11e8_8ca0_c200c0c92e01row2_col1\" class=\"data row2 col1\" >6</td> \n",
       "        <td id=\"T_2118bd0c_74b2_11e8_8ca0_c200c0c92e01row2_col2\" class=\"data row2 col2\" >$4.95</td> \n",
       "        <td id=\"T_2118bd0c_74b2_11e8_8ca0_c200c0c92e01row2_col3\" class=\"data row2 col3\" >$29.70</td> \n",
       "    </tr>    <tr> \n",
       "        <th id=\"T_2118bd0c_74b2_11e8_8ca0_c200c0c92e01level0_row3\" class=\"row_heading level0 row3\" >103</th> \n",
       "        <td id=\"T_2118bd0c_74b2_11e8_8ca0_c200c0c92e01row3_col0\" class=\"data row3 col0\" >Singed Scalpel</td> \n",
       "        <td id=\"T_2118bd0c_74b2_11e8_8ca0_c200c0c92e01row3_col1\" class=\"data row3 col1\" >6</td> \n",
       "        <td id=\"T_2118bd0c_74b2_11e8_8ca0_c200c0c92e01row3_col2\" class=\"data row3 col2\" >$4.87</td> \n",
       "        <td id=\"T_2118bd0c_74b2_11e8_8ca0_c200c0c92e01row3_col3\" class=\"data row3 col3\" >$29.22</td> \n",
       "    </tr>    <tr> \n",
       "        <th id=\"T_2118bd0c_74b2_11e8_8ca0_c200c0c92e01level0_row4\" class=\"row_heading level0 row4\" >107</th> \n",
       "        <td id=\"T_2118bd0c_74b2_11e8_8ca0_c200c0c92e01row4_col0\" class=\"data row4 col0\" >Splitter, Foe Of Subtlety</td> \n",
       "        <td id=\"T_2118bd0c_74b2_11e8_8ca0_c200c0c92e01row4_col1\" class=\"data row4 col1\" >8</td> \n",
       "        <td id=\"T_2118bd0c_74b2_11e8_8ca0_c200c0c92e01row4_col2\" class=\"data row4 col2\" >$3.61</td> \n",
       "        <td id=\"T_2118bd0c_74b2_11e8_8ca0_c200c0c92e01row4_col3\" class=\"data row4 col3\" >$28.88</td> \n",
       "    </tr></tbody> \n",
       "</table> "
      ],
      "text/plain": [
       "<pandas.io.formats.style.Styler at 0x10f5050f0>"
      ]
     },
     "execution_count": 24,
     "metadata": {},
     "output_type": "execute_result"
    }
   ],
   "source": [
    "# Most Profitable Items\n",
    "top5_profit = pd.DataFrame(heroes_df.groupby('Item ID')['Price'].sum())\n",
    "top5_profit.sort_values('Price', ascending = False, inplace = True)\n",
    "# only keep top 5\n",
    "top5_profit = top5_profit.iloc[0:5][:]\n",
    "#get item purchase count\n",
    "pur_count_profit = pd.DataFrame(heroes_df.groupby('Item ID')['Item ID'].count())\n",
    "\n",
    "top5_profit = pd.merge(top5_profit, pur_count_profit, left_index = True, right_index = True, how = 'left')\n",
    "top5_merge_profit = pd.merge(top5_profit, no_dup_items, left_index = True, right_on = 'Item ID', how = 'left')\n",
    "top5_merge_profit = top5_merge_profit[['Item ID', 'Item Name', 'Item ID_x', 'Price_y','Price_x']]\n",
    "top5_merge_profit.set_index(['Item ID'], inplace=True)\n",
    "top5_merge_profit.rename(columns = {'Item ID_x': 'Purchase Count', 'Price_y': 'Item Price', 'Price_x': 'Total Purchase Value'}, inplace = True)\n",
    "top5_merge_profit.style.format({'Item Price': '${:.2f}', 'Total Purchase Value': '${:.2f}'})"
   ]
  },
  {
   "cell_type": "code",
   "execution_count": null,
   "metadata": {},
   "outputs": [],
   "source": []
  }
 ],
 "metadata": {
  "kernelspec": {
   "display_name": "Python 3",
   "language": "python",
   "name": "python3"
  },
  "language_info": {
   "codemirror_mode": {
    "name": "ipython",
    "version": 3
   },
   "file_extension": ".py",
   "mimetype": "text/x-python",
   "name": "python",
   "nbconvert_exporter": "python",
   "pygments_lexer": "ipython3",
   "version": "3.6.5"
  }
 },
 "nbformat": 4,
 "nbformat_minor": 2
}
